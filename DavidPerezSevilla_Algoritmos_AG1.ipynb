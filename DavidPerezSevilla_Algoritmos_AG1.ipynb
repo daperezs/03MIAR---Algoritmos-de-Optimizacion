{
  "nbformat": 4,
  "nbformat_minor": 0,
  "metadata": {
    "colab": {
      "provenance": []
    },
    "kernelspec": {
      "name": "python3",
      "display_name": "Python 3"
    },
    "language_info": {
      "name": "python"
    }
  },
  "cells": [
    {
      "cell_type": "markdown",
      "source": [
        "Actividad guiada 1 de Algoritmos de Optimización\n",
        "\n",
        "David Pérez-Sevilla Pérez-Medrano:\n",
        "\n",
        "https://colab.research.google.com/drive/1FzLmq3Cv6HN2vnelRANF71K24UjHIlCH?usp=sharing"
      ],
      "metadata": {
        "id": "5HjvILm6H8Bl"
      }
    },
    {
      "cell_type": "code",
      "source": [
        "#Torres de Hanoi - Divide y venceras\n",
        "################################################################################\n",
        "\n",
        "\n",
        "################################################################\n",
        "def Torres_Hanoi(N, desde, hasta):\n",
        "  #N - Nº de fichas\n",
        "  #desde - torre inicial\n",
        "  #hasta - torre final\n",
        "  if N==1 :\n",
        "    print(\"Lleva la ficha desde \" + str(desde) + \" hasta \" + str(hasta))\n",
        "\n",
        "  else:\n",
        "    Torres_Hanoi(N-1, desde, 6-desde-hasta)\n",
        "    print(\"Lleva la ficha desde \" + str(desde) + \" hasta \" + str(hasta))\n",
        "    Torres_Hanoi(N-1, 6-desde-hasta,  hasta)\n",
        "\n",
        "Torres_Hanoi(5, 1, 3)\n",
        "################################################################"
      ],
      "metadata": {
        "colab": {
          "base_uri": "https://localhost:8080/"
        },
        "id": "wUro_dBOIA2h",
        "outputId": "7249d116-ef0e-4e88-f8bb-a8eee8cc537d"
      },
      "execution_count": null,
      "outputs": [
        {
          "output_type": "stream",
          "name": "stdout",
          "text": [
            "Lleva la ficha desde 1 hasta 3\n",
            "Lleva la ficha desde 1 hasta 2\n",
            "Lleva la ficha desde 3 hasta 2\n",
            "Lleva la ficha desde 1 hasta 3\n",
            "Lleva la ficha desde 2 hasta 1\n",
            "Lleva la ficha desde 2 hasta 3\n",
            "Lleva la ficha desde 1 hasta 3\n",
            "Lleva la ficha desde 1 hasta 2\n",
            "Lleva la ficha desde 3 hasta 2\n",
            "Lleva la ficha desde 3 hasta 1\n",
            "Lleva la ficha desde 2 hasta 1\n",
            "Lleva la ficha desde 3 hasta 2\n",
            "Lleva la ficha desde 1 hasta 3\n",
            "Lleva la ficha desde 1 hasta 2\n",
            "Lleva la ficha desde 3 hasta 2\n",
            "Lleva la ficha desde 1 hasta 3\n",
            "Lleva la ficha desde 2 hasta 1\n",
            "Lleva la ficha desde 2 hasta 3\n",
            "Lleva la ficha desde 1 hasta 3\n",
            "Lleva la ficha desde 2 hasta 1\n",
            "Lleva la ficha desde 3 hasta 2\n",
            "Lleva la ficha desde 3 hasta 1\n",
            "Lleva la ficha desde 2 hasta 1\n",
            "Lleva la ficha desde 2 hasta 3\n",
            "Lleva la ficha desde 1 hasta 3\n",
            "Lleva la ficha desde 1 hasta 2\n",
            "Lleva la ficha desde 3 hasta 2\n",
            "Lleva la ficha desde 1 hasta 3\n",
            "Lleva la ficha desde 2 hasta 1\n",
            "Lleva la ficha desde 2 hasta 3\n",
            "Lleva la ficha desde 1 hasta 3\n"
          ]
        }
      ]
    },
    {
      "cell_type": "code",
      "source": [
        "#Cambio de monedas - Técnica voraz\n",
        "################################################################################\n",
        "SISTEMA = [25, 10, 5, 1]\n",
        "################################################################\n",
        "def cambio_monedas(CANTIDAD,SISTEMA):\n",
        "#....\n",
        "  SOLUCION = [0]*len(SISTEMA)\n",
        "  ValorAcumulado = 0\n",
        "\n",
        "  for i,valor in enumerate(SISTEMA):\n",
        "    monedas = (CANTIDAD-ValorAcumulado)//valor\n",
        "    SOLUCION[i] = monedas\n",
        "    ValorAcumulado = ValorAcumulado + monedas*valor\n",
        "\n",
        "    if CANTIDAD == ValorAcumulado:\n",
        "      return SOLUCION\n",
        "\n",
        "  print(\"No es posible encontrar solucion\")\n",
        "\n",
        "cambio_monedas(37,SISTEMA)\n",
        "\n",
        "\n",
        "################################################################"
      ],
      "metadata": {
        "colab": {
          "base_uri": "https://localhost:8080/"
        },
        "id": "Yp8yW5C_6Mvu",
        "outputId": "b4c24764-71e4-43ac-d0ba-2f09ea7fada8"
      },
      "execution_count": null,
      "outputs": [
        {
          "output_type": "execute_result",
          "data": {
            "text/plain": [
              "[1, 1, 0, 2]"
            ]
          },
          "metadata": {},
          "execution_count": 4
        }
      ]
    },
    {
      "cell_type": "code",
      "source": [
        "#N Reinas - Vuelta Atrás()\n",
        "################################################################################\n",
        "\n",
        "#Verifica que en la solución parcial no hay amenazas entre reinas\n",
        "################################################################\n",
        "def es_prometedora(SOLUCION,etapa):\n",
        "################################################################\n",
        "  #Si la solución tiene dos valores iguales no es valida => Dos reinas en la misma fila\n",
        "  for i in range(etapa+1):\n",
        "    #print(\"El valor \" + str(SOLUCION[i]) + \" está \" +  str(SOLUCION.count(SOLUCION[i])) + \" veces\")\n",
        "    if SOLUCION.count(SOLUCION[i]) > 1:\n",
        "      return False\n",
        "\n",
        "    #Verifica las diagonales\n",
        "    for j in range(i+1, etapa +1 ):\n",
        "      #print(\"Comprobando diagonal de \" + str(i) + \" y \" + str(j))\n",
        "      if abs(i-j) == abs(SOLUCION[i]-SOLUCION[j]) : return False\n",
        "  return True\n",
        "\n",
        "#Traduce la solución al tablero\n",
        "################################################################\n",
        "def escribe_solucion(S):\n",
        "################################################################\n",
        "  n = len(S)\n",
        "  for x in range(n):\n",
        "    print(\"\")\n",
        "    for i in range(n):\n",
        "      if S[i] == x+1:\n",
        "        print(\" X \" , end=\"\")\n",
        "      else:\n",
        "        print(\" - \", end=\"\")\n",
        "\n",
        "\n",
        "\n",
        "#Proceso principal de N-Reinas\n",
        "################################################################\n",
        "def reinas(N, solucion=[],etapa=0):\n",
        "################################################################\n",
        "### ....\n",
        "  if len(solucion) == 0:         # [0,0,0...]\n",
        "    solucion = [0 for i in range(N) ]\n",
        "\n",
        "  for i in range(1, N+1):\n",
        "    solucion[etapa] = i\n",
        "    if es_prometedora(solucion, etapa):\n",
        "      if etapa == N-1:\n",
        "        print(solucion)\n",
        "      else:\n",
        "        reinas(N, solucion, etapa+1)\n",
        "    else:\n",
        "      None\n",
        "\n",
        "  solucion[etapa] = 0\n",
        "\n",
        "reinas(8,solucion=[],etapa=0)\n",
        "# escribe_solucion(solucion)"
      ],
      "metadata": {
        "colab": {
          "base_uri": "https://localhost:8080/"
        },
        "id": "XESi95_s8bKb",
        "outputId": "78ee1b33-51b6-43f5-da20-c242234d8b58"
      },
      "execution_count": null,
      "outputs": [
        {
          "output_type": "stream",
          "name": "stdout",
          "text": [
            "[1, 5, 8, 6, 3, 7, 2, 4]\n",
            "[1, 6, 8, 3, 7, 4, 2, 5]\n",
            "[1, 7, 4, 6, 8, 2, 5, 3]\n",
            "[1, 7, 5, 8, 2, 4, 6, 3]\n",
            "[2, 4, 6, 8, 3, 1, 7, 5]\n",
            "[2, 5, 7, 1, 3, 8, 6, 4]\n",
            "[2, 5, 7, 4, 1, 8, 6, 3]\n",
            "[2, 6, 1, 7, 4, 8, 3, 5]\n",
            "[2, 6, 8, 3, 1, 4, 7, 5]\n",
            "[2, 7, 3, 6, 8, 5, 1, 4]\n",
            "[2, 7, 5, 8, 1, 4, 6, 3]\n",
            "[2, 8, 6, 1, 3, 5, 7, 4]\n",
            "[3, 1, 7, 5, 8, 2, 4, 6]\n",
            "[3, 5, 2, 8, 1, 7, 4, 6]\n",
            "[3, 5, 2, 8, 6, 4, 7, 1]\n",
            "[3, 5, 7, 1, 4, 2, 8, 6]\n",
            "[3, 5, 8, 4, 1, 7, 2, 6]\n",
            "[3, 6, 2, 5, 8, 1, 7, 4]\n",
            "[3, 6, 2, 7, 1, 4, 8, 5]\n",
            "[3, 6, 2, 7, 5, 1, 8, 4]\n",
            "[3, 6, 4, 1, 8, 5, 7, 2]\n",
            "[3, 6, 4, 2, 8, 5, 7, 1]\n",
            "[3, 6, 8, 1, 4, 7, 5, 2]\n",
            "[3, 6, 8, 1, 5, 7, 2, 4]\n",
            "[3, 6, 8, 2, 4, 1, 7, 5]\n",
            "[3, 7, 2, 8, 5, 1, 4, 6]\n",
            "[3, 7, 2, 8, 6, 4, 1, 5]\n",
            "[3, 8, 4, 7, 1, 6, 2, 5]\n",
            "[4, 1, 5, 8, 2, 7, 3, 6]\n",
            "[4, 1, 5, 8, 6, 3, 7, 2]\n",
            "[4, 2, 5, 8, 6, 1, 3, 7]\n",
            "[4, 2, 7, 3, 6, 8, 1, 5]\n",
            "[4, 2, 7, 3, 6, 8, 5, 1]\n",
            "[4, 2, 7, 5, 1, 8, 6, 3]\n",
            "[4, 2, 8, 5, 7, 1, 3, 6]\n",
            "[4, 2, 8, 6, 1, 3, 5, 7]\n",
            "[4, 6, 1, 5, 2, 8, 3, 7]\n",
            "[4, 6, 8, 2, 7, 1, 3, 5]\n",
            "[4, 6, 8, 3, 1, 7, 5, 2]\n",
            "[4, 7, 1, 8, 5, 2, 6, 3]\n",
            "[4, 7, 3, 8, 2, 5, 1, 6]\n",
            "[4, 7, 5, 2, 6, 1, 3, 8]\n",
            "[4, 7, 5, 3, 1, 6, 8, 2]\n",
            "[4, 8, 1, 3, 6, 2, 7, 5]\n",
            "[4, 8, 1, 5, 7, 2, 6, 3]\n",
            "[4, 8, 5, 3, 1, 7, 2, 6]\n",
            "[5, 1, 4, 6, 8, 2, 7, 3]\n",
            "[5, 1, 8, 4, 2, 7, 3, 6]\n",
            "[5, 1, 8, 6, 3, 7, 2, 4]\n",
            "[5, 2, 4, 6, 8, 3, 1, 7]\n",
            "[5, 2, 4, 7, 3, 8, 6, 1]\n",
            "[5, 2, 6, 1, 7, 4, 8, 3]\n",
            "[5, 2, 8, 1, 4, 7, 3, 6]\n",
            "[5, 3, 1, 6, 8, 2, 4, 7]\n",
            "[5, 3, 1, 7, 2, 8, 6, 4]\n",
            "[5, 3, 8, 4, 7, 1, 6, 2]\n",
            "[5, 7, 1, 3, 8, 6, 4, 2]\n",
            "[5, 7, 1, 4, 2, 8, 6, 3]\n",
            "[5, 7, 2, 4, 8, 1, 3, 6]\n",
            "[5, 7, 2, 6, 3, 1, 4, 8]\n",
            "[5, 7, 2, 6, 3, 1, 8, 4]\n",
            "[5, 7, 4, 1, 3, 8, 6, 2]\n",
            "[5, 8, 4, 1, 3, 6, 2, 7]\n",
            "[5, 8, 4, 1, 7, 2, 6, 3]\n",
            "[6, 1, 5, 2, 8, 3, 7, 4]\n",
            "[6, 2, 7, 1, 3, 5, 8, 4]\n",
            "[6, 2, 7, 1, 4, 8, 5, 3]\n",
            "[6, 3, 1, 7, 5, 8, 2, 4]\n",
            "[6, 3, 1, 8, 4, 2, 7, 5]\n",
            "[6, 3, 1, 8, 5, 2, 4, 7]\n",
            "[6, 3, 5, 7, 1, 4, 2, 8]\n",
            "[6, 3, 5, 8, 1, 4, 2, 7]\n",
            "[6, 3, 7, 2, 4, 8, 1, 5]\n",
            "[6, 3, 7, 2, 8, 5, 1, 4]\n",
            "[6, 3, 7, 4, 1, 8, 2, 5]\n",
            "[6, 4, 1, 5, 8, 2, 7, 3]\n",
            "[6, 4, 2, 8, 5, 7, 1, 3]\n",
            "[6, 4, 7, 1, 3, 5, 2, 8]\n",
            "[6, 4, 7, 1, 8, 2, 5, 3]\n",
            "[6, 8, 2, 4, 1, 7, 5, 3]\n",
            "[7, 1, 3, 8, 6, 4, 2, 5]\n",
            "[7, 2, 4, 1, 8, 5, 3, 6]\n",
            "[7, 2, 6, 3, 1, 4, 8, 5]\n",
            "[7, 3, 1, 6, 8, 5, 2, 4]\n",
            "[7, 3, 8, 2, 5, 1, 6, 4]\n",
            "[7, 4, 2, 5, 8, 1, 3, 6]\n",
            "[7, 4, 2, 8, 6, 1, 3, 5]\n",
            "[7, 5, 3, 1, 6, 8, 2, 4]\n",
            "[8, 2, 4, 1, 7, 5, 3, 6]\n",
            "[8, 2, 5, 3, 1, 7, 4, 6]\n",
            "[8, 3, 1, 6, 2, 5, 7, 4]\n",
            "[8, 4, 1, 3, 6, 2, 7, 5]\n"
          ]
        }
      ]
    },
    {
      "cell_type": "code",
      "source": [
        "#Viaje por el rio - Programación dinámica\n",
        "################################################################################\n",
        "\n",
        "TARIFAS = [\n",
        "[0,5,4,3,999,999,999],\n",
        "[999,0,999,2,3,999,11],\n",
        "[999,999, 0,1,999,4,10],\n",
        "[999,999,999, 0,5,6,9],\n",
        "[999,999, 999,999,0,999,4],\n",
        "[999,999, 999,999,999,0,3],\n",
        "[999,999,999,999,999,999,0]\n",
        "]\n",
        "\n",
        "#999 se puede sustituir por float(\"inf\")\n",
        "\n",
        "\n",
        "#Calculo de la matriz de PRECIOS y RUTAS\n",
        "################################################################\n",
        "def Precios(TARIFAS):\n",
        "################################################################\n",
        "  #Total de Nodos\n",
        "  N = len(TARIFAS[0])\n",
        "\n",
        "  #Inicialización de la tabla de precios\n",
        "  PRECIOS = [ [9999]*N for i in [9999]*N]\n",
        "  RUTA = [ [\"\"]*N for i in [\"\"]*N]\n",
        "\n",
        "  for i in range(0,N-1):\n",
        "    RUTA[i][i] = i             #Para ir de i a i se \"pasa por i\"\n",
        "    PRECIOS[i][i] = 0          #Para ir de i a i se se paga 0\n",
        "    for j in range(i+1, N):\n",
        "      MIN = TARIFAS[i][j]\n",
        "      RUTA[i][j] = i\n",
        "\n",
        "      for k in range(i, j):\n",
        "        if PRECIOS[i][k] + TARIFAS[k][j] < MIN:\n",
        "            MIN = min(MIN, PRECIOS[i][k] + TARIFAS[k][j] )\n",
        "            RUTA[i][j] = k          #Anota que para ir de i a j hay que pasar por k\n",
        "        PRECIOS[i][j] = MIN\n",
        "\n",
        "  return PRECIOS,RUTA\n",
        "################################################################\n",
        "\n",
        "PRECIOS,RUTA = Precios(TARIFAS)\n",
        "#print(PRECIOS[0][6])\n",
        "\n",
        "print(\"PRECIOS\")\n",
        "for i in range(len(TARIFAS)):\n",
        "  print(PRECIOS[i])\n",
        "\n",
        "print(\"\\nRUTA\")\n",
        "for i in range(len(TARIFAS)):\n",
        "  print(RUTA[i])\n",
        "\n",
        "#Determinar la ruta con Recursividad\n",
        "def calcular_ruta(RUTA, desde, hasta):\n",
        "  if desde == hasta:\n",
        "    #print(\"Ir a :\" + str(desde))\n",
        "    return \"\"\n",
        "  else:\n",
        "    return str(calcular_ruta( RUTA, desde, RUTA[desde][hasta])) +  \\\n",
        "                ',' + \\\n",
        "                str(RUTA[desde][hasta] \\\n",
        "              )\n",
        "\n",
        "print(\"\\nLa ruta es:\")\n",
        "calcular_ruta(RUTA, 0,6)"
      ],
      "metadata": {
        "colab": {
          "base_uri": "https://localhost:8080/",
          "height": 365
        },
        "id": "US034LwfFL0I",
        "outputId": "d41df47f-5f42-48b2-e529-e32c230b0315"
      },
      "execution_count": null,
      "outputs": [
        {
          "output_type": "stream",
          "name": "stdout",
          "text": [
            "PRECIOS\n",
            "[0, 5, 4, 3, 8, 8, 11]\n",
            "[9999, 0, 999, 2, 3, 8, 7]\n",
            "[9999, 9999, 0, 1, 6, 4, 7]\n",
            "[9999, 9999, 9999, 0, 5, 6, 9]\n",
            "[9999, 9999, 9999, 9999, 0, 999, 4]\n",
            "[9999, 9999, 9999, 9999, 9999, 0, 3]\n",
            "[9999, 9999, 9999, 9999, 9999, 9999, 9999]\n",
            "\n",
            "RUTA\n",
            "[0, 0, 0, 0, 1, 2, 5]\n",
            "['', 1, 1, 1, 1, 3, 4]\n",
            "['', '', 2, 2, 3, 2, 5]\n",
            "['', '', '', 3, 3, 3, 3]\n",
            "['', '', '', '', 4, 4, 4]\n",
            "['', '', '', '', '', 5, 5]\n",
            "['', '', '', '', '', '', '']\n",
            "\n",
            "La ruta es:\n"
          ]
        },
        {
          "output_type": "execute_result",
          "data": {
            "text/plain": [
              "',0,2,5'"
            ],
            "application/vnd.google.colaboratory.intrinsic+json": {
              "type": "string"
            }
          },
          "metadata": {},
          "execution_count": 8
        }
      ]
    },
    {
      "cell_type": "code",
      "source": [
        "import random\n",
        "\n",
        "LISTA_1D = [random.randrange(1,10000) for x in range(1000)]\n",
        "print(LISTA_1D)"
      ],
      "metadata": {
        "colab": {
          "base_uri": "https://localhost:8080/"
        },
        "id": "GwTEecKWIdYF",
        "outputId": "11d4990e-18dd-483a-fbec-9246734664d0"
      },
      "execution_count": null,
      "outputs": [
        {
          "output_type": "stream",
          "name": "stdout",
          "text": [
            "[6327, 3768, 1849, 9666, 6216, 3604, 2545, 5724, 579, 4058, 6140, 4182, 7796, 3400, 7506, 3092, 4300, 4748, 246, 9512, 5603, 5693, 6475, 3696, 7376, 5269, 5691, 1079, 9506, 9705, 234, 7673, 2549, 9503, 4103, 9175, 5233, 5944, 5361, 4170, 6885, 8557, 8086, 1142, 8569, 281, 166, 1519, 6263, 5102, 2665, 1987, 4229, 8370, 2437, 7595, 7898, 8895, 6965, 1819, 7559, 3266, 4724, 3237, 4648, 5668, 7238, 6170, 1748, 3831, 8453, 6313, 4125, 1633, 2635, 6109, 9744, 1965, 8294, 3341, 3200, 8743, 4618, 4039, 5669, 4972, 92, 2782, 6574, 3374, 1583, 1643, 8384, 7643, 8531, 9052, 6465, 3417, 3696, 4225, 4033, 8351, 1427, 2890, 8939, 2106, 9776, 5400, 5371, 3688, 6121, 299, 5421, 1755, 9112, 5066, 9710, 3045, 9255, 2141, 1131, 6789, 4435, 3897, 3071, 9006, 7680, 6244, 4234, 9334, 5071, 5753, 8310, 7489, 8636, 1826, 4328, 5860, 9324, 5367, 4066, 108, 8640, 5033, 8030, 7372, 102, 5534, 8537, 2473, 5455, 9679, 9032, 8158, 4376, 4010, 7514, 5174, 7088, 2292, 57, 2048, 1760, 1959, 6170, 7445, 6354, 87, 6615, 6003, 8787, 2114, 2140, 1118, 9218, 2787, 9116, 3503, 3644, 7124, 924, 6062, 2230, 2817, 2101, 3679, 1725, 9117, 3969, 3802, 6506, 5701, 5983, 6191, 9471, 4503, 6170, 4426, 2144, 2942, 5923, 9682, 9785, 1713, 7205, 1164, 4787, 2247, 7368, 4309, 457, 1911, 1570, 9814, 3603, 3775, 5576, 359, 4158, 5638, 1413, 1493, 7675, 5498, 8654, 6925, 5486, 1082, 6591, 3006, 6448, 6371, 3841, 1627, 6887, 1739, 8032, 7234, 4666, 4169, 3787, 583, 6989, 5375, 3215, 9091, 5926, 8133, 6308, 4595, 5502, 9524, 158, 6323, 8578, 7509, 5148, 8184, 2054, 1039, 9646, 1793, 7484, 5266, 7395, 293, 8550, 1959, 1027, 6890, 4493, 2128, 1836, 4764, 9141, 6317, 3686, 2739, 1769, 6421, 6655, 796, 442, 7686, 7699, 8886, 6416, 9529, 9457, 6281, 9218, 612, 5043, 5059, 3630, 2157, 6228, 9665, 8680, 3146, 8827, 5608, 8008, 8654, 7890, 8213, 3770, 6445, 1884, 7332, 9130, 9541, 3558, 804, 5251, 8740, 6367, 3160, 4354, 781, 1135, 9895, 8628, 5370, 5826, 2696, 9226, 8171, 1326, 5198, 9956, 8326, 1430, 7351, 2846, 8470, 524, 3486, 3979, 517, 2003, 6141, 6586, 1782, 3688, 7330, 2466, 7065, 2630, 4800, 2446, 1396, 8406, 4854, 5243, 9765, 1886, 1822, 1873, 1804, 7268, 5397, 7020, 7728, 1688, 3316, 2369, 973, 4577, 44, 7478, 7571, 9985, 9212, 8584, 2755, 1357, 2414, 6216, 3739, 6355, 1244, 3739, 5756, 4400, 6837, 4170, 2928, 950, 1302, 2512, 1889, 157, 2086, 1917, 5407, 1510, 1072, 3722, 531, 1662, 2601, 8830, 6359, 1334, 7748, 799, 8590, 6132, 7303, 7422, 4315, 2591, 2549, 8068, 493, 566, 4251, 3916, 8312, 47, 7277, 3711, 5845, 399, 9861, 2928, 9635, 2416, 1803, 7986, 4201, 5023, 5285, 1337, 1990, 2654, 5027, 569, 7385, 8706, 7646, 3126, 259, 605, 5987, 3440, 5532, 2981, 4834, 5443, 5792, 1842, 9322, 7886, 5458, 3250, 5132, 7949, 7033, 7018, 6078, 917, 1573, 1731, 5777, 2448, 1754, 4213, 5004, 8978, 7916, 6624, 1290, 5313, 6894, 6966, 1612, 787, 3933, 8551, 5046, 515, 5849, 3893, 7522, 174, 8279, 6299, 9326, 5174, 8856, 7287, 4875, 246, 1813, 1828, 5319, 542, 6744, 5193, 9334, 9525, 7481, 648, 9869, 4878, 3226, 3987, 8042, 8148, 4013, 2611, 8308, 1559, 9649, 1737, 7682, 7696, 2243, 7125, 7717, 4228, 9753, 6983, 636, 1429, 7784, 3379, 2028, 3922, 2198, 9352, 6296, 4055, 5129, 9869, 8845, 6332, 1495, 1589, 168, 3694, 2604, 9984, 4927, 707, 9113, 2791, 6152, 8584, 5881, 1794, 8879, 251, 3120, 7717, 1642, 7291, 1843, 4494, 579, 1381, 5219, 9249, 5480, 9987, 3279, 7534, 9767, 2251, 9012, 6679, 3139, 1836, 3773, 6050, 3915, 1459, 1004, 3762, 4320, 8128, 6173, 8844, 8469, 1803, 7522, 7727, 5145, 8239, 4296, 497, 5471, 2078, 3282, 6720, 6681, 6949, 4837, 4298, 6739, 5292, 9234, 8594, 5378, 8861, 6489, 9251, 9935, 7111, 7660, 5007, 4179, 115, 8755, 6533, 7471, 2486, 3246, 1838, 751, 9602, 9399, 4358, 5044, 7039, 1760, 2157, 6916, 3305, 9153, 842, 5006, 6463, 7221, 2155, 887, 7760, 3129, 5994, 9081, 1243, 3319, 67, 524, 3044, 4772, 4425, 5594, 4989, 2325, 5909, 8169, 9017, 1304, 6198, 839, 1584, 6552, 1184, 2905, 6452, 189, 9940, 4081, 8844, 6382, 3917, 5545, 7464, 9919, 3980, 6577, 4340, 1844, 4744, 60, 2452, 3178, 5533, 6285, 6542, 3244, 7710, 2228, 6238, 3082, 1464, 8140, 3613, 7706, 547, 5271, 1688, 8882, 8306, 1325, 2132, 8776, 980, 6205, 5376, 1072, 1622, 3062, 3760, 7460, 9798, 4552, 7007, 9608, 3440, 3844, 363, 9219, 6693, 2979, 7485, 1607, 1508, 4063, 9519, 8909, 2494, 3479, 8240, 6546, 5355, 6693, 1326, 2677, 9234, 6979, 8014, 3125, 8052, 3602, 6363, 7327, 1873, 6882, 4498, 428, 4710, 2322, 5225, 4057, 1716, 6725, 2673, 9952, 7368, 3400, 755, 4440, 6330, 3408, 9034, 8000, 2797, 2490, 1684, 3603, 1573, 5405, 8114, 6270, 2217, 7531, 8683, 6038, 7105, 8041, 4577, 8677, 8115, 4037, 7560, 4790, 7432, 3759, 3562, 3766, 7570, 1283, 1384, 7770, 1192, 4983, 3393, 9222, 6623, 1736, 3813, 405, 2687, 7562, 9634, 2001, 7055, 9588, 8124, 2024, 2246, 2560, 5374, 5271, 575, 4052, 6332, 9953, 9104, 908, 18, 520, 8994, 2817, 3603, 1229, 6520, 6351, 9406, 2570, 747, 7923, 2672, 9814, 1936, 2534, 9681, 2662, 62, 8946, 4757, 6421, 8226, 1241, 4349, 206, 4983, 4180, 8082, 9816, 68, 5193, 9624, 8913, 8753, 4117, 8208, 5973, 9329, 1964, 6530, 6014, 8971, 8027, 484, 5949, 614, 394, 6499, 6706, 7166, 6855, 1675, 3657, 8447, 8941, 3323, 4551, 7355, 1772, 8174, 3706, 5121, 2073, 7563, 7830, 3542, 4103, 6762, 5459, 7237, 3562, 1179, 3613, 8758, 9674, 7133, 2638, 7054, 3143, 3046, 4991, 3998, 2558, 8319, 1542, 8710, 2238, 1804, 1784, 5277, 1720, 8325, 1320, 7267, 8351, 614, 9574, 5606, 4453, 3996, 5536, 9170, 6060, 6768, 988, 5327, 3008, 964, 3186, 112, 6038, 7863, 9894, 1787, 4539, 4711, 6170, 2111, 5454, 3144, 6531, 7036, 8145, 1022, 1273, 2031, 9070, 8068, 1896, 2018, 8385, 2077, 5191, 6865, 8258, 9365, 7501, 6284, 5978, 1971, 4431, 8507, 4317, 6468, 4822, 3116, 1486, 8731, 9900, 4506, 1326, 3329, 9654, 7011, 9627, 9192, 3559, 4373, 1626, 9827, 6527, 5314, 3618, 5098, 2581, 518, 9787, 1152, 2829, 1640, 2758, 3977, 9070, 7188, 6163, 8737, 6995, 4340, 6191, 2575, 5629, 5663, 2278, 5986, 3581]\n"
          ]
        }
      ]
    },
    {
      "cell_type": "code",
      "source": [
        "# Encontrar los puntos más cercanos\n",
        "# Fuerza bruta\n",
        "\n",
        "def puntos_cercanos_fb(lista):\n",
        "  # print(lista)\n",
        "  diferencia = 10000\n",
        "  punto1, punto2 = 0, 0\n",
        "  for i in range(0,len(lista)-1):\n",
        "    for j in range (i+1, len(lista)):\n",
        "      if abs(lista[i]-lista[j]) < diferencia:\n",
        "        diferencia = abs(lista[i]-lista[j])\n",
        "        punto1 = lista[i]\n",
        "        punto2 = lista[j]\n",
        "        print(\"Diferencia: \" + str(diferencia))\n",
        "        print(\"Numero 1: \" + str(punto1))\n",
        "        print(\"Numero 2: \" + str(punto2))\n",
        "        print(\"--------------------------------\")\n",
        "\n",
        "puntos_cercanos_fb(LISTA_1D)"
      ],
      "metadata": {
        "colab": {
          "base_uri": "https://localhost:8080/"
        },
        "id": "hoj8QnyVHptn",
        "outputId": "edbd5d3a-b9b7-4d53-d926-b87d51c3a011"
      },
      "execution_count": null,
      "outputs": [
        {
          "output_type": "stream",
          "name": "stdout",
          "text": [
            "Diferencia: 2559\n",
            "Numero 1: 6327\n",
            "Numero 2: 3768\n",
            "--------------------------------\n",
            "Diferencia: 111\n",
            "Numero 1: 6327\n",
            "Numero 2: 6216\n",
            "--------------------------------\n",
            "Diferencia: 64\n",
            "Numero 1: 6327\n",
            "Numero 2: 6263\n",
            "--------------------------------\n",
            "Diferencia: 14\n",
            "Numero 1: 6327\n",
            "Numero 2: 6313\n",
            "--------------------------------\n",
            "Diferencia: 4\n",
            "Numero 1: 6327\n",
            "Numero 2: 6323\n",
            "--------------------------------\n",
            "Diferencia: 3\n",
            "Numero 1: 6327\n",
            "Numero 2: 6330\n",
            "--------------------------------\n",
            "Diferencia: 2\n",
            "Numero 1: 3768\n",
            "Numero 2: 3770\n",
            "--------------------------------\n",
            "Diferencia: 1\n",
            "Numero 1: 9666\n",
            "Numero 2: 9665\n",
            "--------------------------------\n",
            "Diferencia: 0\n",
            "Numero 1: 6216\n",
            "Numero 2: 6216\n",
            "--------------------------------\n"
          ]
        }
      ]
    },
    {
      "cell_type": "code",
      "source": [
        "import random\n",
        "\n",
        "LISTA_1D = [random.randrange(1,10000) for x in range(10)]\n",
        "print(LISTA_1D)"
      ],
      "metadata": {
        "colab": {
          "base_uri": "https://localhost:8080/"
        },
        "id": "yKQbw-3FObAq",
        "outputId": "23d4a39e-126c-4c90-a282-76acfae04da9"
      },
      "execution_count": null,
      "outputs": [
        {
          "output_type": "stream",
          "name": "stdout",
          "text": [
            "[1208, 8370, 8702, 1625, 2778, 7954, 5528, 3246, 5238, 25]\n"
          ]
        }
      ]
    },
    {
      "cell_type": "code",
      "source": [
        "# Encontrar los puntos más cercanos\n",
        "# Divide y vencerás\n",
        "def dividir(lista):\n",
        "  mitad = len(lista) // 2\n",
        "  izquierda = lista[:mitad]\n",
        "  derecha = lista[mitad:]\n",
        "  return izquierda, derecha\n",
        "\n",
        "def puntos_cercanos_dyv(lista):\n",
        "  # print(lista)\n",
        "  # Divide la lista en dos partes\n",
        "  izq, dcha = dividir(lista)\n",
        "  print(izq)\n",
        "  print(dcha)\n",
        "\n",
        "puntos_cercanos_dyv(LISTA_1D)"
      ],
      "metadata": {
        "colab": {
          "base_uri": "https://localhost:8080/"
        },
        "id": "pd8oPuVcNqde",
        "outputId": "98e1bc7f-249c-4932-84f6-5136e6ce9424"
      },
      "execution_count": null,
      "outputs": [
        {
          "output_type": "stream",
          "name": "stdout",
          "text": [
            "[1208, 8370, 8702, 1625, 2778]\n",
            "[7954, 5528, 3246, 5238, 25]\n"
          ]
        }
      ]
    },
    {
      "cell_type": "code",
      "source": [
        "def distancia_entre_puntos(punto1, punto2):\n",
        "    return abs(punto1 - punto2)\n",
        "\n",
        "def encuentra_puntos_mas_cercanos(lista):\n",
        "\n",
        "    # Ordena la lista de números\n",
        "    lista.sort()\n",
        "\n",
        "    # Divide la lista en dos partes\n",
        "    mitad = len(lista) // 2\n",
        "    izquierda = lista[:mitad]\n",
        "    derecha = lista[mitad:]\n",
        "\n",
        "    # Recursivamente encuentra los puntos más cercanos en ambas mitades\n",
        "    izquierda_p1, izquierda_p2, izquierda_distancia = encuentra_puntos_mas_cercanos(izquierda)\n",
        "    derecha_p1, derecha_p2, derecha_distancia = encuentra_puntos_mas_cercanos(derecha)\n",
        "\n",
        "    # Encuentra la distancia mínima entre las dos mitades\n",
        "    minima_distancia_entre_mitades = min(izquierda_distancia, derecha_distancia)\n",
        "\n",
        "    # Encuentra los puntos más cercanos en la \"frontera\" de las dos mitades\n",
        "    frontera_p1 = max(izquierda)\n",
        "    frontera_p2 = min(derecha)\n",
        "    distancia_en_frontera = distancia_entre_puntos(frontera_p1, frontera_p2)\n",
        "\n",
        "    # Combinar los resultados para encontrar la distancia mínima\n",
        "    if distancia_en_frontera < minima_distancia_entre_mitades:\n",
        "        return frontera_p1, frontera_p2, distancia_en_frontera\n",
        "    elif izquierda_distancia < derecha_distancia:\n",
        "        return izquierda_p1, izquierda_p2, izquierda_distancia\n",
        "    else:\n",
        "        return derecha_p1, derecha_p2, derecha_distancia\n",
        "\n",
        "# Ejemplo de uso\n",
        "lista_de_numeros = [3, 1, 8, 4, 12, 6, 15]\n",
        "numero_cercano1, numero_cercano2, distancia_minima = encuentra_puntos_mas_cercanos(lista_de_numeros)\n",
        "\n",
        "print(f'Los números más cercanos son: {numero_cercano1} y {numero_cercano2}')\n",
        "print(f'Distancia mínima: {distancia_minima}')\n"
      ],
      "metadata": {
        "colab": {
          "base_uri": "https://localhost:8080/"
        },
        "id": "cR1L22fPPXw5",
        "outputId": "2516e780-6718-4f63-dd19-328d633f3f5c"
      },
      "execution_count": null,
      "outputs": [
        {
          "output_type": "stream",
          "name": "stdout",
          "text": [
            "Los números más cercanos son: 3 y 4\n",
            "Distancia mínima: 1\n"
          ]
        }
      ]
    },
    {
      "cell_type": "markdown",
      "source": [
        "http://euler.mat.uson.mx/omrodriguez/algoritmos/Comparativa/index.html"
      ],
      "metadata": {
        "id": "BK6tUOnQR9bv"
      }
    }
  ]
}